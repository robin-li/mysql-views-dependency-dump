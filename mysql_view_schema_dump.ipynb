{
  "nbformat": 4,
  "nbformat_minor": 0,
  "metadata": {
    "colab": {
      "provenance": [],
      "authorship_tag": "ABX9TyOujXFUhUpmRjK2mQYYlVGr",
      "include_colab_link": true
    },
    "kernelspec": {
      "name": "python3",
      "display_name": "Python 3"
    },
    "language_info": {
      "name": "python"
    }
  },
  "cells": [
    {
      "cell_type": "markdown",
      "metadata": {
        "id": "view-in-github",
        "colab_type": "text"
      },
      "source": [
        "<a href=\"https://colab.research.google.com/github/robin-li/mysql-views-dependency-dump/blob/main/mysql_view_schema_dump.ipynb\" target=\"_parent\"><img src=\"https://colab.research.google.com/assets/colab-badge.svg\" alt=\"Open In Colab\"/></a>"
      ]
    },
    {
      "cell_type": "markdown",
      "source": [
        "\n",
        "### 問題描述\n",
        "\n",
        "Navicat是MySQL可視化工具中最棒的，但是，在處理視圖的導入導出方面，它是按照視圖名稱的字母順序來處理的，若視圖存在依賴，在導入過程中就會報錯。\n",
        "\n",
        "### 解決方法\n",
        "\n",
        "在MySql很容易查出所有視圖和其定義，因此可以寫一個視圖導出工具，存儲時對各視圖的保存位置進行調整，處理好它們之間的依賴關係，被依賴的放前面，這樣就解決了導入時的依賴問題。\n",
        "\n",
        "### 獲取視圖信息\n",
        "\n",
        "運行以下查詢語句，就能獲得該數據庫中所有視圖的信息。\n",
        "\n",
        "```sql\n",
        "select * from  information_schema.VIEWS where TABLE_SCHEMA = DatabaseName \n",
        "```\n",
        "\n",
        "查詢結果字段說明：\n",
        "\n",
        "- TABLE_NAME ： 數所庫中視圖名稱\n",
        "- VIEW_DEFINITION ： 視圖的定義代碼，只有查詢語句部分\n",
        "- DEFINER ： 視圖定義（建立）者名稱\n",
        "- SECURITY ： 安全級別\n",
        "\n",
        "總之，所有視圖的信息都在這個表中保存，我要完成任務，只需要TABLE\\_NAME和VIEW\\_DEFINITION就可以了。\n",
        "\n",
        "### 算法描述\n",
        "\n",
        "- 將查詢結果放到dict中，視圖名稱為key；視圖定義為value；\n",
        "- 編寫處理依賴關係的函數process\\_rely，輸入參數中的rely\\_old為保存所有視圖名稱的數組；返回參數為按依賴關係調整順序後的視圖名稱數組。之所以這樣做，是一開始考慮到，依賴關係複雜時，可能一次迭代處理不好，需要遞歸調用或多次調用。\n",
        "    \n",
        "    > process_rely函數算法描述：\n",
        "    \n",
        "    - 第一層循環，從rely_old中取一個視圖名稱\n",
        "        \n",
        "        - 第二層循環，從dict中取出一個鍵值\n",
        "            \n",
        "            - 若鍵值被第一層元素的定義所依賴\n",
        "                \n",
        "                - 若鍵值還不在結果數組中\n",
        "                    \n",
        "                    - 若第一層元素不在結果數組中\n",
        "                        \n",
        "                        - 追加鍵值到結果數組中\n",
        "                    - 第一層元素在結果數組中\n",
        "                        \n",
        "                        - 將鍵值插入到第一層元素前\n",
        "                - 鍵值在結果數組中\n",
        "                    \n",
        "                    - 第一層元素在結果數組中\n",
        "                        \n",
        "                        - 查找各自在結果數組中的位置\n",
        "                        - 若第一層元素在鍵值的後\n",
        "                            \n",
        "                            - 將鍵值移動到第一層元素前\n",
        "        - 第二層循環結束時，若第一層元素還不在結果集中\n",
        "            \n",
        "            - 將第一層元素追加到結果集中\n",
        "    - 返回結果集\n",
        "        \n",
        "\n",
        "算法一次就能將複雜的依賴關係處理好了。\n",
        "\n",
        "\n",
        "----------------------\n",
        "\n",
        "### 完整代碼\n",
        "\n",
        "#### 獲取外網IP \n",
        "\n",
        "首先獲取外網IP，以將其加入數據服務RDS白名單。\n"
      ],
      "metadata": {
        "id": "PildsNxzNZY_"
      }
    },
    {
      "cell_type": "code",
      "source": [
        "import requests\n",
        "\n",
        "def get_external_ip():\n",
        "    url = 'https://api.ipify.org'\n",
        "    try:\n",
        "        response = requests.get(url)\n",
        "        return response.text\n",
        "    except:\n",
        "        return 'Error'\n",
        "\n",
        "print(get_external_ip())\n"
      ],
      "metadata": {
        "id": "ZIG-cmcFS3a1"
      },
      "execution_count": null,
      "outputs": []
    },
    {
      "cell_type": "markdown",
      "source": [
        "#### 安装PyMySQL"
      ],
      "metadata": {
        "id": "KRaD-5V8S5Fo"
      }
    },
    {
      "cell_type": "code",
      "source": [
        "!pip install PyMySQL\n"
      ],
      "metadata": {
        "id": "xb9PjcdFQqGh"
      },
      "execution_count": null,
      "outputs": []
    },
    {
      "cell_type": "markdown",
      "source": [
        "#### 主程式\n",
        "\n",
        "> 記得修改必要參數\n"
      ],
      "metadata": {
        "id": "2lCj8HvcTC6F"
      }
    },
    {
      "cell_type": "code",
      "source": [
        "import pymysql\n",
        "\n",
        "## 請修改以下參數\n",
        "mysql_host='demo.mysql.host'\n",
        "mysql_user='user'\n",
        "mysql_passwd='xxxxxx'\n",
        "target_db='target_db'\n",
        "\n",
        "# 建立連線\n",
        "conn = pymysql.connect(host=mysql_host, port=3306, user=mysql_user,\n",
        "                       passwd=mysql_passwd, db='information_schema', charset='utf8')\n",
        "\n",
        "print(\"Connection: \" , conn)\n",
        "\n",
        "def process_rely(parmas={}, rely_old=[]):\n",
        "    _rely = []\n",
        "    _keys = list(parmas.keys())\n",
        "    for k in rely_old:\n",
        "        for bl in _keys:\n",
        "            if str(parmas[k]).find(bl) > -1:\n",
        "                if bl not in _rely:\n",
        "                    if k not in _rely:\n",
        "                        _rely.append(bl)\n",
        "                    else:\n",
        "                        i = _rely.index(k)\n",
        "                        _rely.insert(i, bl)\n",
        "                else:\n",
        "                    if k in _rely:\n",
        "                        i = _rely.index(k)\n",
        "                        j = _rely.index(bl)\n",
        "                        if i < j:\n",
        "                            del _rely[j]\n",
        "                            _rely.insert(i, bl)\n",
        "        if k not in _rely:\n",
        "            _rely.append(k)\n",
        "    return _rely\n",
        "\n",
        "\n",
        "cur = conn.cursor()\n",
        "cur.execute('select TABLE_NAME, VIEW_DEFINITION from  information_schema.VIEWS where TABLE_SCHEMA = %s ', target_db)\n",
        "print(\"Cursor: \" , cur)\n",
        "rs = cur.fetchall()\n",
        "cur.close()\n",
        "conn.close()\n",
        "\n",
        "print(\"Views: \")\n",
        "ps = {}\n",
        "for al in rs:\n",
        "    ps['`' + al[0] + '`'] = al[1]\n",
        "    print('  [View] `' + al[0] + '`')\n",
        "\n",
        "# print(ps)\n",
        "\n",
        "rely = process_rely(ps, list(ps.keys()))\n",
        "# rely = process_rely(ps, rely1)\n",
        "\n",
        "file_object = open('view.sql', 'w')\n",
        "for al in rely:\n",
        "    file_object.write('DROP VIEW IF EXISTS ' + al + ';\\n')\n",
        "    file_object.write('CREATE OR REPLACE VIEW ' + al +\n",
        "                      ' AS ' + ps[al] + ';\\n\\n')\n",
        "\n",
        "file_object.close()\n",
        "\n",
        "print('DONE !')\n"
      ],
      "metadata": {
        "id": "pYuvl3ETNvBa"
      },
      "execution_count": null,
      "outputs": []
    }
  ]
}